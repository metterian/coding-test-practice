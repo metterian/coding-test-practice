{
  "nbformat": 4,
  "nbformat_minor": 2,
  "metadata": {
    "colab": {
      "name": "Copy of cote.ipynb",
      "provenance": [],
      "collapsed_sections": []
    },
    "kernelspec": {
      "name": "python3",
      "display_name": "Python 3.8.8 64-bit ('anaconda3-2021.05': pyenv)"
    },
    "language_info": {
      "name": "python",
      "version": "3.8.8",
      "mimetype": "text/x-python",
      "codemirror_mode": {
        "name": "ipython",
        "version": 3
      },
      "pygments_lexer": "ipython3",
      "nbconvert_exporter": "python",
      "file_extension": ".py"
    },
    "interpreter": {
      "hash": "b7563cf126092772dcfab54e6bbf15d50a976f7d8373205facc9b39a90f3ad3c"
    }
  },
  "cells": [
    {
      "cell_type": "markdown",
      "source": [
        "# 2021 NLP & AI Coding Test\n",
        "\n",
        "![](https://item.kakaocdn.net/do/8ad594ffa619c5063075206d55ec79a18f324a0b9c48f77dbce3a43bd11ce785)\n",
        "\n",
        "- 안녕하세요! 2021 NLP & AI 연구실의 코딩 테스트에 오신 여러분 환영합니다. 👨\n",
        "- 본 테스트는 파이썬(python)🐍 언어를 이용하여 다양한 프로그래밍 상황에서의 간단한 퀴즈를 통해 여러분들에게 필요한 핵심 역량을 파악하는 것을 목적으로 합니다.\n",
        "- 여러분들은 이미 인턴으로 NLP & AI 연구실의 인원으로 합류하셨으며 👏, 그 능력의 출중함은 이미 평가되었다 생각합니다. 그러므로 무리하게 정답을 맞추는 것은 본 테스트의 목적은 아니므로 부담 없이 뇌 운동한다 생각하고 참여해주시면 됩니다. 🏝️"
      ],
      "metadata": {
        "id": "jnLP2mkV871P"
      }
    },
    {
      "cell_type": "code",
      "execution_count": 391,
      "source": [
        "# 실행해주세요!\n",
        "!git clone https://github.com/taeminlee/cote_vol_1"
      ],
      "outputs": [
        {
          "output_type": "stream",
          "name": "stdout",
          "text": [
            "fatal: destination path 'cote_vol_1' already exists and is not an empty directory.\n"
          ]
        }
      ],
      "metadata": {
        "id": "UogsqAVMDK3I",
        "colab": {
          "base_uri": "https://localhost:8080/"
        },
        "outputId": "8808df80-732e-43a4-8e8f-57bf902fa965"
      }
    },
    {
      "cell_type": "markdown",
      "source": [
        "# 세션 1 : 파이썬 아일랜드\n",
        "\n",
        "![](https://images-na.ssl-images-amazon.com/images/S/pv-target-images/7548d4378a9ebcc60173995446a08014b114efc66e4713a4f292205981a5cf62._RI_V_TTW_.jpg)"
      ],
      "metadata": {
        "id": "4nzTnjQN-Yyn"
      }
    },
    {
      "cell_type": "markdown",
      "source": [
        "### Q1 : KorQuAD 데이터 집합에서 `question` 키의 값만 가지는 리스트를 만들고자 한다. 이를 한줄의 파이썬 코드로 작성하시오.\n",
        "\n",
        "- KorQuAD 데이터 집합의 스키마는 다음과 같음\n",
        "\n",
        "```\n",
        "{\n",
        "  \"version\": string\n",
        "  \"data\" : [\n",
        "    \"paragraphs\" : [\n",
        "      \"qas\" : [\n",
        "        \"question\" : string,\n",
        "        \"id\" : string,\n",
        "        \"answers\" : [\n",
        "          \"text\" : string,\n",
        "          \"answer_start\" integer\n",
        "        ]\n",
        "    ]\n",
        "  ]\n",
        "}\n",
        "```"
      ],
      "metadata": {
        "id": "vYALvc5yOXZ2"
      }
    },
    {
      "cell_type": "code",
      "execution_count": 392,
      "source": [
        "from cote_vol_1.q1 import Q1\n",
        "import pprint\n",
        "\n",
        "q1_dataset = Q1.load_dataset()\n"
      ],
      "outputs": [],
      "metadata": {}
    },
    {
      "cell_type": "code",
      "execution_count": 393,
      "source": [
        "# answer = [list(map(lambda y: y['question'], qa)) for qa in map(lambda x: x['qas'], data['paragraphs']) for data in q1_dataset['data']]\n",
        "answer = []\n",
        "for data in q1_dataset['data']:\n",
        "    for qa in map(lambda x: x['qas'], data['paragraphs']):\n",
        "        answer.append(list(map(lambda y: y['question'], qa)))"
      ],
      "outputs": [],
      "metadata": {}
    },
    {
      "cell_type": "code",
      "execution_count": 394,
      "source": [
        "from itertools import chain\n",
        "answer = list(chain.from_iterable([list(chain(map(lambda t: t['question'], k))) for k in (map(lambda y: y['qas'] ,paragraph)) for paragraph in map(lambda x: x['paragraphs'] ,q1_dataset['data'])]))\n",
        "    \n",
        "len(answer)"
      ],
      "outputs": [
        {
          "output_type": "execute_result",
          "data": {
            "text/plain": [
              "5180"
            ]
          },
          "metadata": {},
          "execution_count": 394
        }
      ],
      "metadata": {}
    },
    {
      "cell_type": "code",
      "execution_count": 395,
      "source": [
        "# questions = # 여기에 코드를 작성하세요\n",
        "\n",
        "questions = list(chain.from_iterable(answer))\n",
        "\n",
        "%time Q1.validate(questions)"
      ],
      "outputs": [
        {
          "output_type": "error",
          "ename": "AssertionError",
          "evalue": "",
          "traceback": [
            "\u001b[0;31m---------------------------------------------------------------------------\u001b[0m",
            "\u001b[0;31mAssertionError\u001b[0m                            Traceback (most recent call last)",
            "\u001b[0;32m<timed eval>\u001b[0m in \u001b[0;36m<module>\u001b[0;34m\u001b[0m\n",
            "\u001b[0;32m~/PyProject/coding-test-practice/- 시험 - /Korea-Univ-Internship/cote_vol_1/q1.py\u001b[0m in \u001b[0;36mvalidate\u001b[0;34m(cls, preprocessed_data)\u001b[0m\n\u001b[1;32m     17\u001b[0m             \u001b[0;32mwith\u001b[0m \u001b[0mopen\u001b[0m\u001b[0;34m(\u001b[0m\u001b[0mdata_path\u001b[0m\u001b[0;34m,\u001b[0m \u001b[0;34m'r'\u001b[0m\u001b[0;34m)\u001b[0m \u001b[0;32mas\u001b[0m \u001b[0mfp\u001b[0m\u001b[0;34m:\u001b[0m\u001b[0;34m\u001b[0m\u001b[0;34m\u001b[0m\u001b[0m\n\u001b[1;32m     18\u001b[0m                 \u001b[0mcls\u001b[0m\u001b[0;34m.\u001b[0m\u001b[0mQ1_val\u001b[0m \u001b[0;34m=\u001b[0m \u001b[0mjson\u001b[0m\u001b[0;34m.\u001b[0m\u001b[0mload\u001b[0m\u001b[0;34m(\u001b[0m\u001b[0mfp\u001b[0m\u001b[0;34m)\u001b[0m\u001b[0;34m\u001b[0m\u001b[0;34m\u001b[0m\u001b[0m\n\u001b[0;32m---> 19\u001b[0;31m         \u001b[0;32massert\u001b[0m \u001b[0mpreprocessed_data\u001b[0m \u001b[0;34m==\u001b[0m \u001b[0mcls\u001b[0m\u001b[0;34m.\u001b[0m\u001b[0mQ1_val\u001b[0m\u001b[0;34m\u001b[0m\u001b[0;34m\u001b[0m\u001b[0m\n\u001b[0m\u001b[1;32m     20\u001b[0m         \u001b[0mprint\u001b[0m\u001b[0;34m(\u001b[0m\u001b[0;34m\"OK\"\u001b[0m\u001b[0;34m)\u001b[0m\u001b[0;34m\u001b[0m\u001b[0;34m\u001b[0m\u001b[0m\n",
            "\u001b[0;31mAssertionError\u001b[0m: "
          ]
        }
      ],
      "metadata": {
        "id": "u-u1hFyKjeWi"
      }
    },
    {
      "cell_type": "markdown",
      "source": [
        "### Q2 : $n$ 사이즈의 리스트의 각각의 원소 $e$를 검사하여 짝수인 경우 $e^2$ 값으로, 홀수인 경우 $\\sqrt{e}$로 변환하는 이터레이터(iterator)를 작성하시오."
      ],
      "metadata": {
        "id": "L5p_5dHzOFPW"
      }
    },
    {
      "cell_type": "code",
      "execution_count": null,
      "source": [
        "from cote_vol_1.q2 import Q2\n",
        "import math\n",
        "\n",
        "q2_dataset = Q2.load_dataset()\n",
        "print(\"데이터 집합의 크기 :\", len(q2_dataset))"
      ],
      "outputs": [
        {
          "output_type": "stream",
          "name": "stdout",
          "text": [
            "데이터 집합의 크기 : 10000000\n"
          ]
        }
      ],
      "metadata": {
        "id": "pw4iDSCrOGqL"
      }
    },
    {
      "cell_type": "code",
      "execution_count": null,
      "source": [
        "import numpy as np\n",
        "\n",
        "def im2col(input_data, filter_h, filter_w, stride=1, pad=0):\n",
        "    N, C = 1, 1\n",
        "    H, W = input_data.shape\n",
        "    out_h = (H + 2*pad - filter_h) / stride + 1\n",
        "    out_w = (W + 2*pad - filter_w) / stride + 1\n",
        "\n",
        "    img = np.pad(input_data, [(0, 0), (0, 0), (pad, pad), (pad, pad)], 'constant')\n",
        "    col = np.zeros((N, C, filter_h, filter_w, out_h, out_w))\n",
        "\n",
        "    for y in range(filter_h):\n",
        "        y_max = y + stride*out_h\n",
        "        for x in range(filter_w):\n",
        "            x_max = x + stride*out_w\n",
        "            col[:, :, y, x, :, :] = img[:, :, y:y_max:stride, x:x_max:stride]\n",
        "\n",
        "    col = col.transpose(0, 4, 5, 1, 2, 3).reshape(N*out_h*out_w, -1)\n",
        "    return col\n",
        "\n",
        "\n",
        "class Convolution:\n",
        "    def __init__(self, W, stride=1, pad=1):\n",
        "        self.W = W\n",
        "        self.stride = stride\n",
        "        self.pad = pad\n",
        "\n",
        "    def forward(self, x):\n",
        "        FN, C = 1,1\n",
        "        FH, FW = self.W.shape\n",
        "        N, C = 1,1\n",
        "        H, W = x.shape\n",
        "        out_h = int(1 + (H + 2 * self.pad - FH) / self.stride)\n",
        "        out_w = int(1 + (W + 2 * self.pad - FW) / self.stride)\n",
        "\n",
        "        # 입력 데이터와 필터를 2차원 배열로 전개하고 내적한다.\n",
        "        col = im2col(x, FH, FW, self.stride, self.pad)\n",
        "        col_W = self.W.reshape(FN, -1).T  # 필터 전개\n",
        "        out = np.dot(col, col_W)\n",
        "\n",
        "        # reshape에서 -1 : 원소 개수에 맞춰 적절하게 묶어줌.\n",
        "        # transpose : 다차원 배열의 축 순서를 바꿔줌(N,H,W,C) -> (N,C,H,W)\n",
        "        out = out.reshape(N, out_h, out_w, -1).transpose(0, 3, 1, 2)\n",
        "\n",
        "        return out\n"
      ],
      "outputs": [],
      "metadata": {}
    },
    {
      "cell_type": "code",
      "execution_count": null,
      "source": [
        "iterator = Iterator(q2_dataset)\n",
        "%time Q2.validate(iterator)\n",
        "\n"
      ],
      "outputs": [
        {
          "output_type": "stream",
          "name": "stdout",
          "text": [
            "정상적으로 실행되었습니다.\n",
            "CPU times: user 5.24 s, sys: 24.7 ms, total: 5.27 s\n",
            "Wall time: 5.3 s\n"
          ]
        }
      ],
      "metadata": {
        "id": "VFI9JM50c_fq"
      }
    },
    {
      "cell_type": "markdown",
      "source": [
        "### Q3 : 구분 문자로 분절하는 SimpleTokenizer를 상속받아 다음의 tokenizer들을 구현하시오.\n",
        "\n",
        "- uni-gram tokenizer\n",
        "  - 예 : `신인 샹송 가수의 신춘 샹송 쇼` -> [`신인`, `샹송`, `가수의`, `신춘`, `샹송`, `쇼`]\n",
        "- bi-gram tokenizer with stride 1\n",
        "  - 예 : `신인 샹송 가수의 신춘 샹송 쇼` -> [`신인 샹송`, `샹송 가수의`, `가수의 신춘`, `신춘 샹송`, `샹송 쇼`]\n",
        "- tri-gram tokenizer with stride 2\n",
        "  - 예 : `신인 샹송 가수의 신춘 샹송 쇼` -> [`신인 샹송 가수의`, `가수의 신춘 샹송`, `샹송 쇼`]"
      ],
      "metadata": {
        "id": "__6QK2t7jfZO"
      }
    },
    {
      "cell_type": "code",
      "execution_count": null,
      "source": [
        "test = '신인 샹송 가수의 신춘 샹송 쇼'\n",
        "\n",
        "test = test.split(' ')\n",
        "count = len(test)\n",
        "\n",
        "test\n",
        "[\" \".join(test[i:i+2]) for i in range(0, count-1,1)]\n"
      ],
      "outputs": [
        {
          "output_type": "execute_result",
          "data": {
            "text/plain": [
              "['신인 샹송', '샹송 가수의', '가수의 신춘', '신춘 샹송', '샹송 쇼']"
            ]
          },
          "metadata": {},
          "execution_count": 200
        }
      ],
      "metadata": {}
    },
    {
      "cell_type": "code",
      "execution_count": null,
      "source": [
        "from cote_vol_1.q3 import Q3\n",
        "from typing import List\n",
        "\n",
        "class SimpleTokenizer:\n",
        "  def __init__(self, delimiter=' '):\n",
        "    self.delimiter = delimiter\n",
        "  def tokenize(self, sentence: str) -> List[str]:\n",
        "    raise NotImplementedError\n",
        "  def detokenize(self, tokens: List[str]) -> str:\n",
        "    raise NotImplementedError"
      ],
      "outputs": [],
      "metadata": {
        "id": "3vV9AH8skAoV"
      }
    },
    {
      "cell_type": "code",
      "execution_count": null,
      "source": [
        "q3_dataset = Q3.load_dataset()"
      ],
      "outputs": [],
      "metadata": {
        "id": "crurg5WmuSB3"
      }
    },
    {
      "cell_type": "code",
      "execution_count": null,
      "source": [
        "import itertools\n",
        "\n",
        "class Tokenizer(SimpleTokenizer):\n",
        "    def __init__(self, n) -> None:\n",
        "        super().__init__()\n",
        "        self.n = n\n",
        "        if n == 1:\n",
        "            self.stride = 0\n",
        "        elif n == 2:\n",
        "            self.stride = 1\n",
        "        else:\n",
        "            self.stride = 2\n",
        "\n",
        "    def tokenize(self, sentence: str) -> List[str]:\n",
        "        sentence = sentence.split(self.delimiter)\n",
        "        count = len(sentence)\n",
        "        if self.stride == 0:\n",
        "            return sentence\n",
        "        elif self.stride == 1:\n",
        "            if count == 1:\n",
        "                return sentence\n",
        "            else:\n",
        "                return [\" \".join(sentence[i:i+2]) for i in range(0, count-1,1)]\n",
        "        else:\n",
        "            return [\" \".join(sentence[i:i+self.stride+1]) for i in range(0, count,self.stride)]\n",
        "\n",
        "    def detokenize(self, tokens: List[str]) -> str:\n",
        "        result = []\n",
        "        for token in tokens:\n",
        "            if len(token.split(self.delimiter)) == 1:\n",
        "                result.append([token])\n",
        "                continue\n",
        "            result.append(token.split(self.delimiter)[:-1])\n",
        "\n",
        "        try:\n",
        "            result.append(token.split(self.delimiter)[1:])\n",
        "        except:\n",
        "            print(tokens)\n",
        "\n",
        "        return \" \".join(chain.from_iterable(result))\n",
        "\n",
        "\n"
      ],
      "outputs": [],
      "metadata": {
        "id": "mIdct8nvuiPU"
      }
    },
    {
      "cell_type": "code",
      "execution_count": null,
      "source": [
        "test = '신인'\n",
        "tk = Tokenizer(2)\n",
        "(tk.tokenize(test))"
      ],
      "outputs": [
        {
          "output_type": "execute_result",
          "data": {
            "text/plain": [
              "['신인']"
            ]
          },
          "metadata": {},
          "execution_count": 281
        }
      ],
      "metadata": {}
    },
    {
      "cell_type": "code",
      "execution_count": null,
      "source": [
        "unigram_tokenizer = Tokenizer(1)\n",
        "bigram_tokenizer = Tokenizer(2)\n",
        "trigram_tokenizer = Tokenizer(3)\n",
        "%time Q3.validate(unigram_tokenizer)\n",
        "%time Q3.validate(bigram_tokenizer)\n",
        "%time Q3.validate(trigram_tokenizer)"
      ],
      "outputs": [
        {
          "output_type": "stream",
          "name": "stdout",
          "text": [
            "정상적으로 실행되었습니다.\n",
            "CPU times: user 519 µs, sys: 64 µs, total: 583 µs\n",
            "Wall time: 563 µs\n",
            "정상적으로 실행되었습니다.\n",
            "CPU times: user 839 µs, sys: 111 µs, total: 950 µs\n",
            "Wall time: 915 µs\n",
            "정상적으로 실행되었습니다.\n",
            "CPU times: user 567 µs, sys: 11 µs, total: 578 µs\n",
            "Wall time: 572 µs\n"
          ]
        }
      ],
      "metadata": {
        "id": "BiN6OCb-ulJ4"
      }
    },
    {
      "cell_type": "markdown",
      "source": [
        "# 세션 2 : 넘파이 정글\n",
        "\n",
        "![](https://creativemazes.com.au/wp-content/uploads/2019/04/CreativeMazes_Mandurah_HighRes-6.jpg)"
      ],
      "metadata": {
        "id": "XuiZQkK1zdjK"
      }
    },
    {
      "cell_type": "markdown",
      "source": [
        "### Q4 : Numpy를 이용하여 linear regression을 구현하시오.\n",
        "\n",
        "- input : $x_{i} \\in \\mathbb{R}$\n",
        "- output : $y_{i} \\in \\mathbb{R}$\n",
        "- error function : MSE\n",
        "- learning algorithm : gradient descent"
      ],
      "metadata": {
        "id": "Tcu4NmDr0KmB"
      }
    },
    {
      "cell_type": "code",
      "execution_count": null,
      "source": [
        "import numpy as np\n",
        "import matplotlib.pyplot as plt\n",
        "\n",
        "X = np.array([1,2,4,3,5])\n",
        "Y = np.array([1,3,3,2,5])\n",
        "\n",
        "print(\"X:\", X)\n",
        "print(\"Y:\", Y)\n",
        "\n",
        "plt.scatter(X, Y)"
      ],
      "outputs": [
        {
          "output_type": "stream",
          "name": "stdout",
          "text": [
            "X: [1 2 4 3 5]\n",
            "Y: [1 3 3 2 5]\n"
          ]
        },
        {
          "output_type": "execute_result",
          "data": {
            "text/plain": [
              "<matplotlib.collections.PathCollection at 0x7f9106daef70>"
            ]
          },
          "metadata": {},
          "execution_count": 305
        },
        {
          "output_type": "display_data",
          "data": {
            "text/plain": [
              "<Figure size 432x288 with 1 Axes>"
            ],
            "image/png": "[encoded data removed]"
          },
          "metadata": {
            "needs_background": "light"
          }
        }
      ],
      "metadata": {
        "id": "FSQDRpbZ0IGw"
      }
    },
    {
      "cell_type": "code",
      "execution_count": null,
      "source": [
        "class LinearModel:\n",
        "  def __init__(self):\n",
        "    self.W = 1.\n",
        "    self.b = 0.\n",
        "    self.lr = 0.001\n",
        "  def forward(self, X: np.array) -> (np.array, np.array):\n",
        "    self.X = X\n",
        "    y_hat = self.W*self.X + self.b\n",
        "    self.error = np.subtract(Y, y_hat)\n",
        "    loss = np.square(self.error).mean()\n",
        "    return y_hat, loss\n",
        "    \n",
        "  def backward(self, loss: np.array):\n",
        "    grad_b = -2 * self.error.mean()\n",
        "    grad_W = -2 * (X*self.error).mean()\n",
        "\n",
        "    self.b = self.b - self.lr * grad_b\n",
        "    self.W = self.W - self.lr * grad_W\n",
        "\n",
        "\n"
      ],
      "outputs": [],
      "metadata": {
        "id": "TGl50mqX0KWx"
      }
    },
    {
      "cell_type": "markdown",
      "source": [],
      "metadata": {}
    },
    {
      "cell_type": "code",
      "execution_count": null,
      "source": [
        "epochs = 10000\n",
        "model = LinearModel()\n",
        "for _ in range(epochs):\n",
        "  y_hat, loss = model.forward(X)\n",
        "  model.backward(loss)\n",
        "print(y_hat)"
      ],
      "outputs": [
        {
          "output_type": "stream",
          "name": "stdout",
          "text": [
            "[1.18960079 1.99358468 3.60155245 2.79756856 4.40553634]\n"
          ]
        }
      ],
      "metadata": {
        "id": "HbNMjQOX0B_N"
      }
    },
    {
      "cell_type": "code",
      "execution_count": null,
      "source": [
        "X = np.array([1,2,4,3,5])\n",
        "Y = np.array([1,3,3,2,5])\n",
        "plt.scatter(X, Y, label='original')\n",
        "plt.plot(X, y_hat, label='prediction', color='r')\n",
        "plt.legend()\n",
        "plt.show()"
      ],
      "outputs": [
        {
          "output_type": "display_data",
          "data": {
            "text/plain": [
              "<Figure size 432x288 with 1 Axes>"
            ],
            "image/png": "[encoded data removed]"
          },
          "metadata": {
            "needs_background": "light"
          }
        }
      ],
      "metadata": {}
    },
    {
      "cell_type": "code",
      "execution_count": null,
      "source": [
        "X"
      ],
      "outputs": [
        {
          "output_type": "execute_result",
          "data": {
            "text/plain": [
              "array([1, 2, 4, 3, 5])"
            ]
          },
          "metadata": {},
          "execution_count": 296
        }
      ],
      "metadata": {}
    },
    {
      "cell_type": "markdown",
      "source": [
        "### Q5 : Numpy를 이용하여 Convolution 2d 연산을 구현하시오.\n",
        "\n",
        "- kernel size : 3\n",
        "- stride : 1\n",
        "- padding : 1\n",
        "- bias는 사용하지 않음\n",
        "\n",
        "![](https://cdn-images-1.medium.com/max/1200/1*1okwhewf5KCtIPaFib4XaA.gif)"
      ],
      "metadata": {
        "id": "SMpYLWEY-tF3"
      }
    },
    {
      "cell_type": "code",
      "execution_count": null,
      "source": [
        "from cote_vol_1.q5 import Q5\n",
        "\n",
        "x, w = Q5.load_dataset()"
      ],
      "outputs": [],
      "metadata": {
        "id": "6Sa4bEFp5GJ0"
      }
    },
    {
      "cell_type": "code",
      "execution_count": null,
      "source": [
        "x[0]"
      ],
      "outputs": [
        {
          "output_type": "execute_result",
          "data": {
            "text/plain": [
              "array([-0.46023749, -1.06326753, -1.04604476,  0.62465838,  1.43209722,\n",
              "        0.01731633, -0.07912325, -1.12343883,  0.11588124, -0.09295656])"
            ]
          },
          "metadata": {},
          "execution_count": 337
        }
      ],
      "metadata": {}
    },
    {
      "cell_type": "code",
      "execution_count": null,
      "source": [
        "def convolve2D(image, kernel=3, padding=1, strides=1):\n",
        "    # Cross Correlation\n",
        "    kernel = np.flipud(np.fliplr(kernel))\n",
        "\n",
        "    # Gather Shapes of Kernel + Image + Padding\n",
        "    xKernShape = kernel.shape[0]\n",
        "    yKernShape = kernel.shape[1]\n",
        "    xImgShape = image.shape[0]\n",
        "    yImgShape = image.shape[1]\n",
        "\n",
        "    # Shape of Output Convolution\n",
        "    xOutput = int(((xImgShape - xKernShape + 2 * padding) / strides) + 1)\n",
        "    yOutput = int(((yImgShape - yKernShape + 2 * padding) / strides) + 1)\n",
        "    output = np.zeros((xOutput, yOutput))\n",
        "\n",
        "    # Apply Equal Padding to All Sides\n",
        "    if padding != 0:\n",
        "        imagePadded = np.zeros((image.shape[0] + padding*2, image.shape[1] + padding*2))\n",
        "        imagePadded[int(padding):int(-1 * padding), int(padding):int(-1 * padding)] = image\n",
        "        print(imagePadded)\n",
        "    else:\n",
        "        imagePadded = image\n",
        "\n",
        "    # Iterate through image\n",
        "    for y in range(image.shape[1]):\n",
        "        # Exit Convolution\n",
        "        if y > image.shape[1] - yKernShape:\n",
        "            break\n",
        "        # Only Convolve if y has gone down by the specified Strides\n",
        "        if y % strides == 0:\n",
        "            for x in range(image.shape[0]):\n",
        "                # Go to next row once kernel is out of bounds\n",
        "                if x > image.shape[0] - xKernShape:\n",
        "                    break\n",
        "                try:\n",
        "                    # Only Convolve if x has moved by the specified Strides\n",
        "                    if x % strides == 0:\n",
        "                        output[x, y] = (kernel * imagePadded[x: x + xKernShape, y: y + yKernShape]).sum()\n",
        "                except:\n",
        "                    break\n",
        "\n",
        "    return output"
      ],
      "outputs": [
        {
          "output_type": "execute_result",
          "data": {
            "text/plain": [
              "array([[ 3.03282426, -3.31324729, -0.17478491,  1.64618309,  0.34482736,\n",
              "         1.17784524,  1.70631659, -5.46013138],\n",
              "       [-5.47808012,  3.63081071, -0.06319664, -0.34897281, -1.61060043,\n",
              "         0.01255437,  0.2128797 , -1.03392474],\n",
              "       [ 4.76799711, -1.35651451, -4.14095193, -0.36380501, -0.90612905,\n",
              "         0.88944909,  1.39370274, -2.86781856],\n",
              "       [-3.79464502, -2.72566077,  0.24904108, -2.56583494,  0.95849242,\n",
              "         0.25402235, -0.14211284, -1.53274332],\n",
              "       [ 3.47379674, -3.3117733 ,  1.08904543, -4.06525544, -1.24600125,\n",
              "         2.21866519, -0.79877282,  1.16234994],\n",
              "       [ 1.72445141,  2.24930017, -3.55739114, -2.07216233,  3.37657742,\n",
              "        -2.53829507,  0.98325574,  0.71475791],\n",
              "       [-0.03957643,  1.40478965, -0.62661715,  1.77912956, -2.61254927,\n",
              "        -1.13272091, -5.18078571,  0.63501733],\n",
              "       [ 2.61824974, -1.44052299, -0.2468395 ,  1.17653474, -0.74087091,\n",
              "         1.05423505,  1.53394047,  2.33300335]])"
            ]
          },
          "metadata": {},
          "execution_count": 339
        }
      ],
      "metadata": {}
    },
    {
      "cell_type": "code",
      "execution_count": null,
      "source": [],
      "outputs": [],
      "metadata": {}
    },
    {
      "cell_type": "code",
      "execution_count": null,
      "source": [
        "# conv2d 연산 결과를 자유롭게 작성하세요\n",
        "y = convolution2d(x, w)\n",
        "Q5.validate(y)"
      ],
      "outputs": [
        {
          "output_type": "error",
          "ename": "AssertionError",
          "evalue": "",
          "traceback": [
            "\u001b[0;31m---------------------------------------------------------------------------\u001b[0m",
            "\u001b[0;31mAssertionError\u001b[0m                            Traceback (most recent call last)",
            "\u001b[0;32m<ipython-input-342-bf993c559103>\u001b[0m in \u001b[0;36m<module>\u001b[0;34m\u001b[0m\n\u001b[1;32m      1\u001b[0m \u001b[0;31m# conv2d 연산 결과를 자유롭게 작성하세요\u001b[0m\u001b[0;34m\u001b[0m\u001b[0;34m\u001b[0m\u001b[0;34m\u001b[0m\u001b[0m\n\u001b[1;32m      2\u001b[0m \u001b[0my\u001b[0m \u001b[0;34m=\u001b[0m \u001b[0mconvolution2d\u001b[0m\u001b[0;34m(\u001b[0m\u001b[0mx\u001b[0m\u001b[0;34m,\u001b[0m \u001b[0mw\u001b[0m\u001b[0;34m)\u001b[0m\u001b[0;34m\u001b[0m\u001b[0;34m\u001b[0m\u001b[0m\n\u001b[0;32m----> 3\u001b[0;31m \u001b[0mQ5\u001b[0m\u001b[0;34m.\u001b[0m\u001b[0mvalidate\u001b[0m\u001b[0;34m(\u001b[0m\u001b[0my\u001b[0m\u001b[0;34m)\u001b[0m\u001b[0;34m\u001b[0m\u001b[0;34m\u001b[0m\u001b[0m\n\u001b[0m",
            "\u001b[0;32m~/PyProject/coding-test-practice/- 시험 - /Korea-Univ-Internship/cote_vol_1/q5.py\u001b[0m in \u001b[0;36mvalidate\u001b[0;34m(cls, conv2d_result)\u001b[0m\n\u001b[1;32m     13\u001b[0m     \u001b[0;34m@\u001b[0m\u001b[0mclassmethod\u001b[0m\u001b[0;34m\u001b[0m\u001b[0;34m\u001b[0m\u001b[0m\n\u001b[1;32m     14\u001b[0m     \u001b[0;32mdef\u001b[0m \u001b[0mvalidate\u001b[0m\u001b[0;34m(\u001b[0m\u001b[0mcls\u001b[0m\u001b[0;34m,\u001b[0m \u001b[0mconv2d_result\u001b[0m\u001b[0;34m)\u001b[0m\u001b[0;34m:\u001b[0m\u001b[0;34m\u001b[0m\u001b[0;34m\u001b[0m\u001b[0m\n\u001b[0;32m---> 15\u001b[0;31m         \u001b[0;32massert\u001b[0m \u001b[0mcls\u001b[0m\u001b[0;34m.\u001b[0m\u001b[0mQ5\u001b[0m\u001b[0;34m[\u001b[0m\u001b[0;34m'y'\u001b[0m\u001b[0;34m]\u001b[0m\u001b[0;34m.\u001b[0m\u001b[0mtolist\u001b[0m\u001b[0;34m(\u001b[0m\u001b[0;34m)\u001b[0m \u001b[0;34m==\u001b[0m \u001b[0mconv2d_result\u001b[0m\u001b[0;34m.\u001b[0m\u001b[0mtolist\u001b[0m\u001b[0;34m(\u001b[0m\u001b[0;34m)\u001b[0m\u001b[0;34m\u001b[0m\u001b[0;34m\u001b[0m\u001b[0m\n\u001b[0m\u001b[1;32m     16\u001b[0m         \u001b[0mprint\u001b[0m\u001b[0;34m(\u001b[0m\u001b[0;34m\"정상적으로 실행되었습니다.\"\u001b[0m\u001b[0;34m)\u001b[0m\u001b[0;34m\u001b[0m\u001b[0;34m\u001b[0m\u001b[0m\n",
            "\u001b[0;31mAssertionError\u001b[0m: "
          ]
        }
      ],
      "metadata": {
        "id": "6bjYdLDDF-oJ"
      }
    },
    {
      "cell_type": "markdown",
      "source": [
        "# 세션3 : 퀴즈 타임\n",
        "\n",
        "![](https://blog.hubspot.com/hubfs/google-quiz.jpg)"
      ],
      "metadata": {
        "id": "-Sb4zBbvGUT6"
      }
    },
    {
      "cell_type": "markdown",
      "source": [
        "### Q6 : 주어진 리스트의 단어 각각에 `은`/`는` 조사를 적절히 붙여주는 함수를 작성하시오.\n",
        "\n",
        "- Tip : 종성 유무에 따라 적절한 조사가 정해집니다. 예를 들어, 종성이 있으면 `은` 종성이 없으면 `는`이 붙어야 합니다. `애플은` | `사과는`"
      ],
      "metadata": {
        "id": "xuAemu1xGogZ"
      }
    },
    {
      "cell_type": "code",
      "execution_count": 407,
      "source": [
        "from cote_vol_1.q6 import Q6\n",
        "\n",
        "dataset = Q6.load_dataset()"
      ],
      "outputs": [],
      "metadata": {
        "id": "_wwQQ8HtHP_A"
      }
    },
    {
      "cell_type": "code",
      "execution_count": 408,
      "source": [
        "dataset[0]"
      ],
      "outputs": [
        {
          "output_type": "execute_result",
          "data": {
            "text/plain": [
              "'이상해씨'"
            ]
          },
          "metadata": {},
          "execution_count": 408
        }
      ],
      "metadata": {}
    },
    {
      "cell_type": "code",
      "execution_count": 427,
      "source": [
        "import re\n",
        "\"\"\"\n",
        "    초성 중성 종성 분리 하기\n",
        "\t유니코드 한글은 0xAC00 으로부터\n",
        "\t초성 19개, 중성21개, 종성28개로 이루어지고\n",
        "\t이들을 조합한 11,172개의 문자를 갖는다.\n",
        "\t한글코드의 값 = ((초성 * 21) + 중성) * 28 + 종성 + 0xAC00\n",
        "\t(0xAC00은 'ㄱ'의 코드값)\n",
        "\t따라서 다음과 같은 계산 식이 구해진다.\n",
        "\t유니코드 한글 문자 코드 값이 X일 때,\n",
        "\t초성 = ((X - 0xAC00) / 28) / 21\n",
        "\t중성 = ((X - 0xAC00) / 28) % 21\n",
        "\t종성 = (X - 0xAC00) % 28\n",
        "\t이 때 초성, 중성, 종성의 값은 각 소리 글자의 코드값이 아니라\n",
        "\t이들이 각각 몇 번째 문자인가를 나타내기 때문에 다음과 같이 다시 처리한다.\n",
        "\t초성문자코드 = 초성 + 0x1100 //('ㄱ')\n",
        "\t중성문자코드 = 중성 + 0x1161 // ('ㅏ')\n",
        "\t종성문자코드 = 종성 + 0x11A8 - 1 // (종성이 없는 경우가 있으므로 1을 뺌)\n",
        "\"\"\"\n",
        "\n",
        "# 유니코드 한글 시작 : 44032, 끝 : 55199\n",
        "BASE_CODE, CHOSUNG, JUNGSUNG = 44032, 588, 28\n",
        "\n",
        "# 초성 리스트. 00 ~ 18\n",
        "CHOSUNG_LIST = ['ㄱ', 'ㄲ', 'ㄴ', 'ㄷ', 'ㄸ', 'ㄹ', 'ㅁ', 'ㅂ', 'ㅃ', 'ㅅ', 'ㅆ', 'ㅇ', 'ㅈ', 'ㅉ', 'ㅊ', 'ㅋ', 'ㅌ', 'ㅍ', 'ㅎ']\n",
        "\n",
        "# 중성 리스트. 00 ~ 20\n",
        "JUNGSUNG_LIST = ['ㅏ', 'ㅐ', 'ㅑ', 'ㅒ', 'ㅓ', 'ㅔ', 'ㅕ', 'ㅖ', 'ㅗ', 'ㅘ', 'ㅙ', 'ㅚ', 'ㅛ', 'ㅜ', 'ㅝ', 'ㅞ', 'ㅟ', 'ㅠ', 'ㅡ', 'ㅢ', 'ㅣ']\n",
        "\n",
        "# 종성 리스트. 00 ~ 27 + 1(1개 없음)\n",
        "JONGSUNG_LIST = [' ', 'ㄱ', 'ㄲ', 'ㄳ', 'ㄴ', 'ㄵ', 'ㄶ', 'ㄷ', 'ㄹ', 'ㄺ', 'ㄻ', 'ㄼ', 'ㄽ', 'ㄾ', 'ㄿ', 'ㅀ', 'ㅁ', 'ㅂ', 'ㅄ', 'ㅅ', 'ㅆ', 'ㅇ', 'ㅈ', 'ㅊ', 'ㅋ', 'ㅌ', 'ㅍ', 'ㅎ']\n",
        "\n",
        "def convert(test_keyword):\n",
        "    JONGSUNG_FLAG = False\n",
        "    split_keyword_list = test_keyword[-1]\n",
        "    #print(split_keyword_list)\n",
        "\n",
        "    result = list()\n",
        "    for keyword in split_keyword_list:\n",
        "        # 한글 여부 check 후 분리\n",
        "        if re.match('.*[ㄱ-ㅎㅏ-ㅣ가-힣]+.*', keyword) is not None:\n",
        "            char_code = ord(keyword) - BASE_CODE\n",
        "            char1 = int(char_code / CHOSUNG)\n",
        "            result.append(CHOSUNG_LIST[char1])\n",
        "            #print('초성 : {}'.format(CHOSUNG_LIST[char1]))\n",
        "            char2 = int((char_code - (CHOSUNG * char1)) / JUNGSUNG)\n",
        "            result.append(JUNGSUNG_LIST[char2])\n",
        "            #print('중성 : {}'.format(JUNGSUNG_LIST[char2]))\n",
        "            char3 = int((char_code - (CHOSUNG * char1) - (JUNGSUNG * char2)))\n",
        "            if char3==0:\n",
        "                result.append('#')\n",
        "            else:\n",
        "                result.append(JONGSUNG_LIST[char3])\n",
        "                JONGSUNG_FLAG = True\n",
        "            # print('종성 : {}'.format(JONGSUNG_LIST[char3]))\n",
        "        else:\n",
        "            split_keyword_list = test_keyword[-2]\n",
        "            test_keyword += convert(split_keyword_list)[-1]\n",
        "            return test_keyword\n",
        "    # result\n",
        "    if not JONGSUNG_FLAG:\n",
        "        test_keyword += '는'\n",
        "    else:\n",
        "        test_keyword += '은'\n",
        "\n",
        "    return test_keyword\n",
        "\n",
        "\n",
        "\n",
        "convert('폴리곤Z')"
      ],
      "outputs": [
        {
          "output_type": "execute_result",
          "data": {
            "text/plain": [
              "'폴리곤Z은'"
            ]
          },
          "metadata": {},
          "execution_count": 427
        }
      ],
      "metadata": {}
    },
    {
      "cell_type": "code",
      "execution_count": 431,
      "source": [
        "josa_append_dataset = list(map(convert, dataset))\n",
        "Q6.validate(josa_append_dataset)"
      ],
      "outputs": [
        {
          "output_type": "stream",
          "name": "stdout",
          "text": [
            "정상적으로 실행되었습니다.\n"
          ]
        }
      ],
      "metadata": {
        "id": "ymm6_vNJJQ3p"
      }
    },
    {
      "cell_type": "markdown",
      "source": [
        "### Q7 : 토큰화된 문장의 일부를 마스킹 처리하여 언어 모형을 학습하고자 합니다. 토큰화된 리스트가 주어졌을 때, 다음의 규칙을 준수하는 마스킹 된 데이터 집합을 만들어 보세요!\n",
        "\n",
        "- 마스킹 토큰은 `<mask>` 으로 표현합니다.\n",
        "- 마스킹 토큰의 id는 6번 입니다.\n",
        "\n",
        "> The training data generator chooses 15% of the token positions at random for\n",
        "prediction. If the i-th token is chosen, we replace the i-th token with (1) the [MASK] token 80% of the time (2) a random token 10% of the time (3) the unchanged i-th token 10% of the time."
      ],
      "metadata": {
        "id": "iRwxxYzIJqde"
      }
    },
    {
      "cell_type": "code",
      "execution_count": 397,
      "source": [
        "!pip install datasets\n",
        "!pip install transformers"
      ],
      "outputs": [
        {
          "output_type": "stream",
          "name": "stdout",
          "text": [
            "Requirement already satisfied: datasets in /Users/seungjun/.pyenv/versions/anaconda3-2021.05/lib/python3.8/site-packages (1.9.0)\n",
            "Requirement already satisfied: huggingface-hub<0.1.0 in /Users/seungjun/.pyenv/versions/anaconda3-2021.05/lib/python3.8/site-packages (from datasets) (0.0.12)\n",
            "Requirement already satisfied: packaging in /Users/seungjun/.pyenv/versions/anaconda3-2021.05/lib/python3.8/site-packages (from datasets) (20.9)\n",
            "Requirement already satisfied: pandas in /Users/seungjun/.pyenv/versions/anaconda3-2021.05/lib/python3.8/site-packages (from datasets) (1.2.4)\n",
            "Requirement already satisfied: tqdm>=4.27 in /Users/seungjun/.pyenv/versions/anaconda3-2021.05/lib/python3.8/site-packages (from datasets) (4.59.0)\n",
            "Requirement already satisfied: xxhash in /Users/seungjun/.pyenv/versions/anaconda3-2021.05/lib/python3.8/site-packages (from datasets) (2.0.2)\n",
            "Requirement already satisfied: numpy>=1.17 in /Users/seungjun/.pyenv/versions/anaconda3-2021.05/lib/python3.8/site-packages (from datasets) (1.20.1)\n",
            "Requirement already satisfied: dill in /Users/seungjun/.pyenv/versions/anaconda3-2021.05/lib/python3.8/site-packages (from datasets) (0.3.4)\n",
            "Requirement already satisfied: fsspec>=2021.05.0 in /Users/seungjun/.pyenv/versions/anaconda3-2021.05/lib/python3.8/site-packages (from datasets) (2021.7.0)\n",
            "Requirement already satisfied: multiprocess in /Users/seungjun/.pyenv/versions/anaconda3-2021.05/lib/python3.8/site-packages (from datasets) (0.70.12.2)\n",
            "Requirement already satisfied: pyarrow!=4.0.0,>=1.0.0 in /Users/seungjun/.pyenv/versions/anaconda3-2021.05/lib/python3.8/site-packages (from datasets) (4.0.1)\n",
            "Requirement already satisfied: requests>=2.19.0 in /Users/seungjun/.pyenv/versions/anaconda3-2021.05/lib/python3.8/site-packages (from datasets) (2.25.1)\n",
            "Requirement already satisfied: typing-extensions in /Users/seungjun/.pyenv/versions/anaconda3-2021.05/lib/python3.8/site-packages (from huggingface-hub<0.1.0->datasets) (3.7.4.3)\n",
            "Requirement already satisfied: filelock in /Users/seungjun/.pyenv/versions/anaconda3-2021.05/lib/python3.8/site-packages (from huggingface-hub<0.1.0->datasets) (3.0.12)\n",
            "Requirement already satisfied: pyparsing>=2.0.2 in /Users/seungjun/.pyenv/versions/anaconda3-2021.05/lib/python3.8/site-packages (from packaging->datasets) (2.4.7)\n",
            "Requirement already satisfied: urllib3<1.27,>=1.21.1 in /Users/seungjun/.pyenv/versions/anaconda3-2021.05/lib/python3.8/site-packages (from requests>=2.19.0->datasets) (1.26.4)\n",
            "Requirement already satisfied: certifi>=2017.4.17 in /Users/seungjun/.pyenv/versions/anaconda3-2021.05/lib/python3.8/site-packages (from requests>=2.19.0->datasets) (2020.12.5)\n",
            "Requirement already satisfied: idna<3,>=2.5 in /Users/seungjun/.pyenv/versions/anaconda3-2021.05/lib/python3.8/site-packages (from requests>=2.19.0->datasets) (2.10)\n",
            "Requirement already satisfied: chardet<5,>=3.0.2 in /Users/seungjun/.pyenv/versions/anaconda3-2021.05/lib/python3.8/site-packages (from requests>=2.19.0->datasets) (4.0.0)\n",
            "Requirement already satisfied: python-dateutil>=2.7.3 in /Users/seungjun/.pyenv/versions/anaconda3-2021.05/lib/python3.8/site-packages (from pandas->datasets) (2.8.1)\n",
            "Requirement already satisfied: pytz>=2017.3 in /Users/seungjun/.pyenv/versions/anaconda3-2021.05/lib/python3.8/site-packages (from pandas->datasets) (2021.1)\n",
            "Requirement already satisfied: six>=1.5 in /Users/seungjun/.pyenv/versions/anaconda3-2021.05/lib/python3.8/site-packages (from python-dateutil>=2.7.3->pandas->datasets) (1.15.0)\n",
            "Requirement already satisfied: transformers in /Users/seungjun/.pyenv/versions/anaconda3-2021.05/lib/python3.8/site-packages (4.8.2)\n",
            "Requirement already satisfied: regex!=2019.12.17 in /Users/seungjun/.pyenv/versions/anaconda3-2021.05/lib/python3.8/site-packages (from transformers) (2021.4.4)\n",
            "Requirement already satisfied: tokenizers<0.11,>=0.10.1 in /Users/seungjun/.pyenv/versions/anaconda3-2021.05/lib/python3.8/site-packages (from transformers) (0.10.3)\n",
            "Requirement already satisfied: packaging in /Users/seungjun/.pyenv/versions/anaconda3-2021.05/lib/python3.8/site-packages (from transformers) (20.9)\n",
            "Requirement already satisfied: sacremoses in /Users/seungjun/.pyenv/versions/anaconda3-2021.05/lib/python3.8/site-packages (from transformers) (0.0.45)\n",
            "Requirement already satisfied: tqdm>=4.27 in /Users/seungjun/.pyenv/versions/anaconda3-2021.05/lib/python3.8/site-packages (from transformers) (4.59.0)\n",
            "Requirement already satisfied: huggingface-hub==0.0.12 in /Users/seungjun/.pyenv/versions/anaconda3-2021.05/lib/python3.8/site-packages (from transformers) (0.0.12)\n",
            "Requirement already satisfied: requests in /Users/seungjun/.pyenv/versions/anaconda3-2021.05/lib/python3.8/site-packages (from transformers) (2.25.1)\n",
            "Requirement already satisfied: filelock in /Users/seungjun/.pyenv/versions/anaconda3-2021.05/lib/python3.8/site-packages (from transformers) (3.0.12)\n",
            "Requirement already satisfied: pyyaml in /Users/seungjun/.pyenv/versions/anaconda3-2021.05/lib/python3.8/site-packages (from transformers) (5.4.1)\n",
            "Requirement already satisfied: numpy>=1.17 in /Users/seungjun/.pyenv/versions/anaconda3-2021.05/lib/python3.8/site-packages (from transformers) (1.20.1)\n",
            "Requirement already satisfied: typing-extensions in /Users/seungjun/.pyenv/versions/anaconda3-2021.05/lib/python3.8/site-packages (from huggingface-hub==0.0.12->transformers) (3.7.4.3)\n",
            "Requirement already satisfied: pyparsing>=2.0.2 in /Users/seungjun/.pyenv/versions/anaconda3-2021.05/lib/python3.8/site-packages (from packaging->transformers) (2.4.7)\n",
            "Requirement already satisfied: idna<3,>=2.5 in /Users/seungjun/.pyenv/versions/anaconda3-2021.05/lib/python3.8/site-packages (from requests->transformers) (2.10)\n",
            "Requirement already satisfied: chardet<5,>=3.0.2 in /Users/seungjun/.pyenv/versions/anaconda3-2021.05/lib/python3.8/site-packages (from requests->transformers) (4.0.0)\n",
            "Requirement already satisfied: urllib3<1.27,>=1.21.1 in /Users/seungjun/.pyenv/versions/anaconda3-2021.05/lib/python3.8/site-packages (from requests->transformers) (1.26.4)\n",
            "Requirement already satisfied: certifi>=2017.4.17 in /Users/seungjun/.pyenv/versions/anaconda3-2021.05/lib/python3.8/site-packages (from requests->transformers) (2020.12.5)\n",
            "Requirement already satisfied: joblib in /Users/seungjun/.pyenv/versions/anaconda3-2021.05/lib/python3.8/site-packages (from sacremoses->transformers) (1.0.1)\n",
            "Requirement already satisfied: click in /Users/seungjun/.pyenv/versions/anaconda3-2021.05/lib/python3.8/site-packages (from sacremoses->transformers) (7.1.2)\n",
            "Requirement already satisfied: six in /Users/seungjun/.pyenv/versions/anaconda3-2021.05/lib/python3.8/site-packages (from sacremoses->transformers) (1.15.0)\n"
          ]
        }
      ],
      "metadata": {
        "id": "VgcxHe3FLHX5"
      }
    },
    {
      "cell_type": "code",
      "execution_count": 398,
      "source": [
        "from transformers import AutoTokenizer\n",
        "tokenizer = AutoTokenizer.from_pretrained(\"skt/kogpt2-base-v2\")"
      ],
      "outputs": [
        {
          "output_type": "stream",
          "name": "stderr",
          "text": [
            "Special tokens have been added in the vocabulary, make sure the associated word embeddings are fine-tuned or trained.\n"
          ]
        }
      ],
      "metadata": {
        "id": "1CFDiL5rLrjM"
      }
    },
    {
      "cell_type": "code",
      "execution_count": 399,
      "source": [
        "from datasets import load_dataset\n",
        "dataset = load_dataset('kor_ner')\n",
        "texts = [record['text'] for record in dataset['train']]"
      ],
      "outputs": [
        {
          "output_type": "stream",
          "name": "stderr",
          "text": [
            "Using custom data configuration default\n",
            "Reusing dataset kor_ner (/Users/seungjun/.cache/huggingface/datasets/kor_ner/default/1.1.0/1f019c13620cd0f9d3a4b79c684b0b3e2ece528a306b9f5a1be5c4154d405c02)\n"
          ]
        }
      ],
      "metadata": {
        "id": "wE04p1N4LMfo"
      }
    },
    {
      "cell_type": "code",
      "execution_count": 400,
      "source": [
        "# 토큰화 리스트\n",
        "tokens = [tokenizer.tokenize(text) for text in texts]\n",
        "# 토큰 ID화 리스트\n",
        "token_ids = [tokenizer.encode(text) for text in texts]"
      ],
      "outputs": [],
      "metadata": {
        "id": "a0qvXs-KMYic"
      }
    },
    {
      "cell_type": "code",
      "execution_count": 401,
      "source": [
        "print(\"토큰:\", tokens[0][:10],\"...\")\n",
        "print(\"ID:\", token_ids[0][:10],\"...\")"
      ],
      "outputs": [
        {
          "output_type": "stream",
          "name": "stdout",
          "text": [
            "토큰: ['▁나도', '▁때', '늦', '은', '▁홍', '길', '동이', '보다는', '▁이', '▁사회의'] ...\n",
            "ID: [35704, 9068, 7167, 8135, 9722, 6962, 11209, 10497, 9018, 12212] ...\n"
          ]
        }
      ],
      "metadata": {
        "id": "MPsmpxLzN9iw"
      }
    },
    {
      "cell_type": "code",
      "execution_count": 402,
      "source": [
        "# 자유롭게 마스킹된 토큰 리스트 (혹은 토큰 ID 리스트) 을 만들어보세요!"
      ],
      "outputs": [],
      "metadata": {
        "id": "-JoIwn5iNtqy"
      }
    },
    {
      "cell_type": "markdown",
      "source": [
        "# 마무리\n",
        "\n",
        "![](https://item.kakaocdn.net/do/0936dbb0aaa6270bd577ad286a1525aa8b566dca82634c93f811198148a26065)\n",
        "\n",
        "고생이 많으셨습니다!\n",
        "\n",
        "마지막으로, colab 에서 저장 후 `파일` -> `다운로드` 하여 ipynb 파일을 카톡방이나, taeminlee@korea.ac.kr 으로 전송해주세요 😊\n",
        "\n",
        "그럼 다음에 또 봐요~~"
      ],
      "metadata": {
        "id": "pzD2bLyiQ3l2"
      }
    }
  ]
}